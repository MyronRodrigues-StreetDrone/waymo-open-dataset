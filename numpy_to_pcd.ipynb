{
 "cells": [
  {
   "cell_type": "code",
   "execution_count": 25,
   "metadata": {},
   "outputs": [],
   "source": [
    "import rosbag2_py\n",
    "import std_msgs.msg as std_msgs\n",
    "import ros2_numpy as rnpy\n",
    "from rclpy.serialization import serialize_message"
   ]
  },
  {
   "cell_type": "code",
   "execution_count": 26,
   "metadata": {},
   "outputs": [
    {
     "data": {
      "text/plain": [
       "sensor_msgs.msg.PointCloud2(header=std_msgs.msg.Header(stamp=builtin_interfaces.msg.Time(sec=100, nanosec=12000), frame_id='/lidar'), height=1, width=10, fields=[sensor_msgs.msg.PointField(name='x', offset=0, datatype=7, count=1), sensor_msgs.msg.PointField(name='y', offset=4, datatype=7, count=1), sensor_msgs.msg.PointField(name='z', offset=8, datatype=7, count=1), sensor_msgs.msg.PointField(name='i', offset=12, datatype=7, count=1)], is_bigendian=False, point_step=16, row_step=160, data=[160, 201, 82, 63, 156, 189, 105, 63, 123, 76, 90, 63, 238, 166, 170, 62, 102, 217, 95, 62, 20, 103, 69, 63, 154, 2, 42, 62, 137, 33, 21, 63, 66, 221, 0, 61, 21, 164, 147, 62, 102, 7, 247, 62, 19, 235, 45, 63, 209, 193, 11, 63, 186, 180, 212, 62, 87, 16, 13, 63, 101, 110, 11, 63, 157, 41, 30, 62, 29, 185, 169, 62, 151, 62, 26, 63, 215, 165, 105, 63, 78, 115, 63, 62, 44, 143, 187, 62, 128, 15, 223, 62, 146, 65, 72, 63, 245, 61, 216, 62, 17, 216, 159, 62, 18, 212, 241, 62, 205, 244, 53, 63, 125, 5, 27, 63, 25, 152, 20, 63, 63, 178, 93, 63, 196, 137, 188, 61, 215, 21, 252, 62, 60, 83, 231, 61, 207, 165, 9, 63, 141, 198, 115, 63, 253, 228, 36, 63, 18, 217, 166, 62, 37, 28, 248, 62, 121, 229, 100, 62], is_dense=True)"
      ]
     },
     "execution_count": 26,
     "metadata": {},
     "output_type": "execute_result"
    }
   ],
   "source": [
    "topic = '/points2'\n",
    "serialization_format = 'cdr'\n",
    "\n",
    "np.random.seed(9999)\n",
    "cld_np = np.random.rand(4,10)\n",
    "dt = {'names': ('x', 'y', 'z', 'i'), 'formats': (np.float32, np.float32, np.float32, np.float32)}\n",
    "cld_np = np.rec.fromarrays(cld_np, dtype=dt)\n",
    "ts = Time(sec=100, nanosec=12000)\n",
    "pcd = rnpy.array_to_pointcloud2(cld_np, ts, '/lidar')\n",
    "pcd"
   ]
  },
  {
   "cell_type": "code",
   "execution_count": 27,
   "metadata": {},
   "outputs": [
    {
     "name": "stderr",
     "output_type": "stream",
     "text": [
      "[INFO] [1679936799.212021413] [rosbag2_storage]: Opened database 'test_bag/test_bag_0.db3' for READ_WRITE.\n"
     ]
    }
   ],
   "source": [
    "bag_writer = rosbag2_py.SequentialWriter()\n",
    "storage_options = rosbag2_py.StorageOptions(uri='test_bag', storage_id='sqlite3')\n",
    "converter_options = rosbag2_py.ConverterOptions(\n",
    "        input_serialization_format=serialization_format,\n",
    "        output_serialization_format=serialization_format)\n",
    "\n",
    "bag_writer.open(storage_options, converter_options)\n",
    "pcd_topic_info = rosbag2_py._storage.TopicMetadata(\n",
    "            name=topic,\n",
    "            type='sensor_msgs/msg/PointCloud2',\n",
    "            serialization_format=serialization_format)\n",
    "bag_writer.create_topic(pcd_topic_info)\n",
    "\n",
    "bag_writer.write(topic, serialize_message(pcd), int(1e4))"
   ]
  },
  {
   "cell_type": "code",
   "execution_count": null,
   "metadata": {},
   "outputs": [],
   "source": []
  }
 ],
 "metadata": {
  "kernelspec": {
   "display_name": "ros2",
   "language": "python",
   "name": "python3"
  },
  "language_info": {
   "codemirror_mode": {
    "name": "ipython",
    "version": 3
   },
   "file_extension": ".py",
   "mimetype": "text/x-python",
   "name": "python",
   "nbconvert_exporter": "python",
   "pygments_lexer": "ipython3",
   "version": "3.9.15"
  },
  "orig_nbformat": 4
 },
 "nbformat": 4,
 "nbformat_minor": 2
}
