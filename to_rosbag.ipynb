{
 "cells": [
  {
   "cell_type": "code",
   "execution_count": 1,
   "metadata": {},
   "outputs": [],
   "source": [
    "import rosbag2_py\n",
    "from rclpy.serialization import serialize_message\n",
    "import std_msgs.msg as std_msgs\n",
    "import numpy as np\n",
    "from builtin_interfaces.msg import Time\n",
    "import ros2_numpy as rnpy\n",
    "from geometry_msgs.msg import TransformStamped\n",
    "from pyquaternion import Quaternion"
   ]
  },
  {
   "cell_type": "code",
   "execution_count": 2,
   "metadata": {},
   "outputs": [
    {
     "name": "stderr",
     "output_type": "stream",
     "text": [
      "2023-03-29 17:26:08.618763: I tensorflow/core/util/util.cc:169] oneDNN custom operations are on. You may see slightly different numerical results due to floating-point round-off errors from different computation orders. To turn them off, set the environment variable `TF_ENABLE_ONEDNN_OPTS=0`.\n"
     ]
    }
   ],
   "source": [
    "from waymo_open_dataset import v2\n",
    "import matplotlib.pyplot as plt\n",
    "import tensorflow as tf\n",
    "import dask.dataframe as dd\n",
    "\n",
    "import warnings\n",
    "# Disable annoying warnings from PyArrow using under the hood.\n",
    "warnings.simplefilter(action='ignore', category=FutureWarning)"
   ]
  },
  {
   "cell_type": "code",
   "execution_count": 3,
   "metadata": {},
   "outputs": [],
   "source": [
    "# Path to the directory with all components\n",
    "dataset_dir = '/home/myron/data/Waymo/data'\n",
    "context = '10504764403039842352_460_000_480_000'\n",
    "\n",
    "lidar_df = dd.read_parquet(f'{dataset_dir}/lidar/testing_lidar_{context}.parquet')\n",
    "lidar_calib_df = dd.read_parquet(f'{dataset_dir}/lidar_calibration/testing_lidar_calibration_{context}.parquet')\n",
    "# lidar_pose_df = dd.read_parquet(f'{dataset_dir}/lidar_pose/testing_lidar_pose_{context}.parquet')\n",
    "vehicle_pose_df = dd.read_parquet(f'{dataset_dir}/vehicle_pose/testing_vehicle_pose_10504764403039842352_460_000_480_000.parquet')"
   ]
  },
  {
   "cell_type": "code",
   "execution_count": 4,
   "metadata": {},
   "outputs": [],
   "source": [
    "lidar_lcalib_df = v2.merge(lidar_df, lidar_calib_df, right_group=True)\n",
    "# lidar_lcalib_lpose_df = v2.merge(lidar_pose_df, lidar_lcalib_df, right_group=True)\n",
    "lidar_lcalib_vpose_df = v2.merge(vehicle_pose_df, lidar_lcalib_df, right_group=False)"
   ]
  },
  {
   "cell_type": "code",
   "execution_count": 5,
   "metadata": {},
   "outputs": [
    {
     "data": {
      "text/html": [
       "<div>\n",
       "<style scoped>\n",
       "    .dataframe tbody tr th:only-of-type {\n",
       "        vertical-align: middle;\n",
       "    }\n",
       "\n",
       "    .dataframe tbody tr th {\n",
       "        vertical-align: top;\n",
       "    }\n",
       "\n",
       "    .dataframe thead th {\n",
       "        text-align: right;\n",
       "    }\n",
       "</style>\n",
       "<table border=\"1\" class=\"dataframe\">\n",
       "  <thead>\n",
       "    <tr style=\"text-align: right;\">\n",
       "      <th></th>\n",
       "      <th>key.segment_context_name</th>\n",
       "      <th>key.frame_timestamp_micros</th>\n",
       "      <th>[VehiclePoseComponent].world_from_vehicle.transform</th>\n",
       "      <th>key.laser_name</th>\n",
       "      <th>[LiDARComponent].range_image_return1.values</th>\n",
       "      <th>[LiDARComponent].range_image_return1.shape</th>\n",
       "      <th>[LiDARComponent].range_image_return2.values</th>\n",
       "      <th>[LiDARComponent].range_image_return2.shape</th>\n",
       "      <th>[LiDARCalibrationComponent].extrinsic.transform</th>\n",
       "      <th>[LiDARCalibrationComponent].beam_inclination.min</th>\n",
       "      <th>[LiDARCalibrationComponent].beam_inclination.max</th>\n",
       "      <th>[LiDARCalibrationComponent].beam_inclination.values</th>\n",
       "    </tr>\n",
       "  </thead>\n",
       "  <tbody>\n",
       "    <tr>\n",
       "      <th>0</th>\n",
       "      <td>10504764403039842352_460_000_480_000</td>\n",
       "      <td>1558060923374527</td>\n",
       "      <td>[0.015530851147822279, 0.9993379682253831, -0....</td>\n",
       "      <td>1</td>\n",
       "      <td>[-1.0, -1.0, -1.0, -1.0, -1.0, -1.0, -1.0, -1....</td>\n",
       "      <td>[64, 2650, 4]</td>\n",
       "      <td>[-1.0, -1.0, -1.0, -1.0, -1.0, -1.0, -1.0, -1....</td>\n",
       "      <td>[64, 2650, 4]</td>\n",
       "      <td>[-0.8531144853352591, -0.5217225826529568, 0.0...</td>\n",
       "      <td>-0.315786</td>\n",
       "      <td>0.039599</td>\n",
       "      <td>[-0.3105449854411111, -0.30006279157785287, -0...</td>\n",
       "    </tr>\n",
       "    <tr>\n",
       "      <th>1</th>\n",
       "      <td>10504764403039842352_460_000_480_000</td>\n",
       "      <td>1558060923374527</td>\n",
       "      <td>[0.015530851147822279, 0.9993379682253831, -0....</td>\n",
       "      <td>2</td>\n",
       "      <td>[-1.0, -1.0, -1.0, -1.0, -1.0, -1.0, -1.0, -1....</td>\n",
       "      <td>[200, 600, 4]</td>\n",
       "      <td>[-1.0, -1.0, -1.0, -1.0, -1.0, -1.0, -1.0, -1....</td>\n",
       "      <td>[200, 600, 4]</td>\n",
       "      <td>[0.9997788317633413, -0.020411114732822817, 0....</td>\n",
       "      <td>-1.570796</td>\n",
       "      <td>0.523599</td>\n",
       "      <td>None</td>\n",
       "    </tr>\n",
       "    <tr>\n",
       "      <th>2</th>\n",
       "      <td>10504764403039842352_460_000_480_000</td>\n",
       "      <td>1558060923374527</td>\n",
       "      <td>[0.015530851147822279, 0.9993379682253831, -0....</td>\n",
       "      <td>3</td>\n",
       "      <td>[-1.0, -1.0, -1.0, -1.0, -1.0, -1.0, -1.0, -1....</td>\n",
       "      <td>[200, 600, 4]</td>\n",
       "      <td>[-1.0, -1.0, -1.0, -1.0, -1.0, -1.0, -1.0, -1....</td>\n",
       "      <td>[200, 600, 4]</td>\n",
       "      <td>[0.005220212948586411, -0.9999596896584837, 0....</td>\n",
       "      <td>-1.570796</td>\n",
       "      <td>0.523599</td>\n",
       "      <td>None</td>\n",
       "    </tr>\n",
       "    <tr>\n",
       "      <th>3</th>\n",
       "      <td>10504764403039842352_460_000_480_000</td>\n",
       "      <td>1558060923374527</td>\n",
       "      <td>[0.015530851147822279, 0.9993379682253831, -0....</td>\n",
       "      <td>4</td>\n",
       "      <td>[-1.0, -1.0, -1.0, -1.0, -1.0, -1.0, -1.0, -1....</td>\n",
       "      <td>[200, 600, 4]</td>\n",
       "      <td>[-1.0, -1.0, -1.0, -1.0, -1.0, -1.0, -1.0, -1....</td>\n",
       "      <td>[200, 600, 4]</td>\n",
       "      <td>[0.012464598372826827, 0.9999033927187172, -0....</td>\n",
       "      <td>-1.570796</td>\n",
       "      <td>0.523599</td>\n",
       "      <td>None</td>\n",
       "    </tr>\n",
       "    <tr>\n",
       "      <th>4</th>\n",
       "      <td>10504764403039842352_460_000_480_000</td>\n",
       "      <td>1558060923374527</td>\n",
       "      <td>[0.015530851147822279, 0.9993379682253831, -0....</td>\n",
       "      <td>5</td>\n",
       "      <td>[-1.0, -1.0, -1.0, -1.0, -1.0, -1.0, -1.0, -1....</td>\n",
       "      <td>[200, 600, 4]</td>\n",
       "      <td>[-1.0, -1.0, -1.0, -1.0, -1.0, -1.0, -1.0, -1....</td>\n",
       "      <td>[200, 600, 4]</td>\n",
       "      <td>[-0.9996589391821362, -0.012444893206838104, -...</td>\n",
       "      <td>-1.570796</td>\n",
       "      <td>0.523599</td>\n",
       "      <td>None</td>\n",
       "    </tr>\n",
       "  </tbody>\n",
       "</table>\n",
       "</div>"
      ],
      "text/plain": [
       "               key.segment_context_name  key.frame_timestamp_micros  \\\n",
       "0  10504764403039842352_460_000_480_000            1558060923374527   \n",
       "1  10504764403039842352_460_000_480_000            1558060923374527   \n",
       "2  10504764403039842352_460_000_480_000            1558060923374527   \n",
       "3  10504764403039842352_460_000_480_000            1558060923374527   \n",
       "4  10504764403039842352_460_000_480_000            1558060923374527   \n",
       "\n",
       "  [VehiclePoseComponent].world_from_vehicle.transform  key.laser_name  \\\n",
       "0  [0.015530851147822279, 0.9993379682253831, -0....                1   \n",
       "1  [0.015530851147822279, 0.9993379682253831, -0....                2   \n",
       "2  [0.015530851147822279, 0.9993379682253831, -0....                3   \n",
       "3  [0.015530851147822279, 0.9993379682253831, -0....                4   \n",
       "4  [0.015530851147822279, 0.9993379682253831, -0....                5   \n",
       "\n",
       "         [LiDARComponent].range_image_return1.values  \\\n",
       "0  [-1.0, -1.0, -1.0, -1.0, -1.0, -1.0, -1.0, -1....   \n",
       "1  [-1.0, -1.0, -1.0, -1.0, -1.0, -1.0, -1.0, -1....   \n",
       "2  [-1.0, -1.0, -1.0, -1.0, -1.0, -1.0, -1.0, -1....   \n",
       "3  [-1.0, -1.0, -1.0, -1.0, -1.0, -1.0, -1.0, -1....   \n",
       "4  [-1.0, -1.0, -1.0, -1.0, -1.0, -1.0, -1.0, -1....   \n",
       "\n",
       "  [LiDARComponent].range_image_return1.shape  \\\n",
       "0                              [64, 2650, 4]   \n",
       "1                              [200, 600, 4]   \n",
       "2                              [200, 600, 4]   \n",
       "3                              [200, 600, 4]   \n",
       "4                              [200, 600, 4]   \n",
       "\n",
       "         [LiDARComponent].range_image_return2.values  \\\n",
       "0  [-1.0, -1.0, -1.0, -1.0, -1.0, -1.0, -1.0, -1....   \n",
       "1  [-1.0, -1.0, -1.0, -1.0, -1.0, -1.0, -1.0, -1....   \n",
       "2  [-1.0, -1.0, -1.0, -1.0, -1.0, -1.0, -1.0, -1....   \n",
       "3  [-1.0, -1.0, -1.0, -1.0, -1.0, -1.0, -1.0, -1....   \n",
       "4  [-1.0, -1.0, -1.0, -1.0, -1.0, -1.0, -1.0, -1....   \n",
       "\n",
       "  [LiDARComponent].range_image_return2.shape  \\\n",
       "0                              [64, 2650, 4]   \n",
       "1                              [200, 600, 4]   \n",
       "2                              [200, 600, 4]   \n",
       "3                              [200, 600, 4]   \n",
       "4                              [200, 600, 4]   \n",
       "\n",
       "     [LiDARCalibrationComponent].extrinsic.transform  \\\n",
       "0  [-0.8531144853352591, -0.5217225826529568, 0.0...   \n",
       "1  [0.9997788317633413, -0.020411114732822817, 0....   \n",
       "2  [0.005220212948586411, -0.9999596896584837, 0....   \n",
       "3  [0.012464598372826827, 0.9999033927187172, -0....   \n",
       "4  [-0.9996589391821362, -0.012444893206838104, -...   \n",
       "\n",
       "   [LiDARCalibrationComponent].beam_inclination.min  \\\n",
       "0                                         -0.315786   \n",
       "1                                         -1.570796   \n",
       "2                                         -1.570796   \n",
       "3                                         -1.570796   \n",
       "4                                         -1.570796   \n",
       "\n",
       "   [LiDARCalibrationComponent].beam_inclination.max  \\\n",
       "0                                          0.039599   \n",
       "1                                          0.523599   \n",
       "2                                          0.523599   \n",
       "3                                          0.523599   \n",
       "4                                          0.523599   \n",
       "\n",
       "  [LiDARCalibrationComponent].beam_inclination.values  \n",
       "0  [-0.3105449854411111, -0.30006279157785287, -0...   \n",
       "1                                               None   \n",
       "2                                               None   \n",
       "3                                               None   \n",
       "4                                               None   "
      ]
     },
     "execution_count": 5,
     "metadata": {},
     "output_type": "execute_result"
    }
   ],
   "source": [
    "lidar_lcalib_vpose_df.head()"
   ]
  },
  {
   "cell_type": "code",
   "execution_count": 6,
   "metadata": {},
   "outputs": [],
   "source": [
    "class RosbagWriter:\n",
    "    def __init__(self, topic_msg_type_map: dict, output_bag_path: str, serialization='cdr') -> None:\n",
    "        self.writer = rosbag2_py.SequentialWriter()\n",
    "        self.open_bag_for_writing(output_bag_path, serialization)\n",
    "        for topic, msg_type in topic_msg_type_map.items():\n",
    "            self.writer.create_topic(rosbag2_py._storage.TopicMetadata(\n",
    "                name=topic,\n",
    "                type=msg_type,\n",
    "                serialization_format=serialization))\n",
    "    \n",
    "    def open_bag_for_writing(self, path, serialization_format='cdr'):\n",
    "        storage_options = rosbag2_py.StorageOptions(uri=path, storage_id='sqlite3')\n",
    "\n",
    "        converter_options = rosbag2_py.ConverterOptions(\n",
    "            input_serialization_format=serialization_format,\n",
    "            output_serialization_format=serialization_format)\n",
    "\n",
    "        self.writer.open(storage_options, converter_options)\n",
    "    \n",
    "    def write(self, topic: str, ros2_msg: any, timestamp_ns: int):\n",
    "        self.writer.write(topic, serialize_message(ros2_msg), timestamp_ns)"
   ]
  },
  {
   "cell_type": "code",
   "execution_count": 7,
   "metadata": {},
   "outputs": [
    {
     "name": "stderr",
     "output_type": "stream",
     "text": [
      "[INFO] [1680107172.251148730] [rosbag2_storage]: Opened database 'output/waymo_10504764403039842352_460_000_480_000/waymo_10504764403039842352_460_000_480_000_0.db3' for READ_WRITE.\n"
     ]
    }
   ],
   "source": [
    "bag_out_path = f'output/waymo_{context}'\n",
    "rb_writer = RosbagWriter({'/points': 'sensor_msgs/msg/PointCloud2',\n",
    "                          '/base_link': 'geometry_msgs/msg/TransformStamped',\n",
    "                          '/lidar': 'geometry_msgs/msg/TransformStamped'}, bag_out_path)"
   ]
  },
  {
   "cell_type": "code",
   "execution_count": 8,
   "metadata": {},
   "outputs": [],
   "source": [
    "def time_msg_from_timestamp_us(timestamp_us: int):\n",
    "    return Time(sec=int(timestamp_us/1e6), nanosec=int((timestamp_us%1e6)*1e3))"
   ]
  },
  {
   "cell_type": "code",
   "execution_count": 9,
   "metadata": {},
   "outputs": [],
   "source": [
    "def lidar_range_img_to_pcd_xyzi_msg(range_img, lidar_calib, lidar_frame: str, time_msg: Time):\n",
    "    pc = v2.convert_range_image_to_point_cloud(range_img, lidar_calib, keep_polar_features=True)\n",
    "    pc = np.rec.fromarrays(tf.transpose(tf.gather(pc, [3,4,5,1], axis=1)),\n",
    "                           dtype={'names': ('x', 'y', 'z', 'i'),\n",
    "                                  'formats': (np.float32, np.float32, np.float32, np.float32)})\n",
    "    return rnpy.array_to_pointcloud2(pc, time_msg, lidar_frame)"
   ]
  },
  {
   "cell_type": "code",
   "execution_count": 10,
   "metadata": {},
   "outputs": [],
   "source": [
    "def make_transform_msg(tf_matrix, from_frame_id: str, to_frame_id: str, time_msg: Time):\n",
    "  t = TransformStamped()\n",
    "\n",
    "  t.header.stamp = time_msg\n",
    "  t.header.frame_id = from_frame_id\n",
    "  t.child_frame_id = to_frame_id\n",
    "  t.transform.translation.x = float(tf_matrix[0, 3])\n",
    "  t.transform.translation.y = float(tf_matrix[1, 3])\n",
    "  t.transform.translation.z = float(tf_matrix[2, 3])\n",
    "  quat = Quaternion(matrix=tf_matrix)\n",
    "  t.transform.rotation.x = float(quat.x)\n",
    "  t.transform.rotation.y = float(quat.y)\n",
    "  t.transform.rotation.z = float(quat.z)\n",
    "  t.transform.rotation.w = float(quat.w)\n",
    "  return t"
   ]
  },
  {
   "cell_type": "code",
   "execution_count": 11,
   "metadata": {},
   "outputs": [
    {
     "name": "stderr",
     "output_type": "stream",
     "text": [
      "2023-03-29 17:26:14.497287: I tensorflow/core/platform/cpu_feature_guard.cc:193] This TensorFlow binary is optimized with oneAPI Deep Neural Network Library (oneDNN) to use the following CPU instructions in performance-critical operations:  SSE4.1 SSE4.2 AVX AVX2 AVX512F AVX512_VNNI FMA\n",
      "To enable them in other operations, rebuild TensorFlow with the appropriate compiler flags.\n"
     ]
    }
   ],
   "source": [
    "for i, (_, r) in enumerate(lidar_lcalib_vpose_df.iterrows()):\n",
    "  # Create component dataclasses for the raw data\n",
    "  # print(r)\n",
    "  lidar = v2.LiDARComponent.from_dict(r)\n",
    "  laser_name = int(lidar.key.laser_name)\n",
    "  \n",
    "\n",
    "  if(laser_name == 1):\n",
    "    timestamp_us = lidar.key.frame_timestamp_micros\n",
    "    time_msg = time_msg_from_timestamp_us(timestamp_us)\n",
    "    \n",
    "    lidar_calib = v2.LiDARCalibrationComponent.from_dict(r)\n",
    "    vehicle_pose_df = v2.VehiclePoseComponent.from_dict(r)\n",
    "    vehicle_pose = np.array(vehicle_pose_df.world_from_vehicle.transform).reshape((4,4))\n",
    "    lidar_pose = np.array(lidar_calib.extrinsic.transform).reshape((4,4))\n",
    "    \n",
    "    pcd_msg = lidar_range_img_to_pcd_xyzi_msg(lidar.range_image_return1, lidar_calib, '/lidar', time_msg)\n",
    "    lidar_tf = make_transform_msg(lidar_pose, '/base_link', '/lidar', time_msg)\n",
    "    vehicle_tf = make_transform_msg(vehicle_pose, '/map', '/base_link', time_msg)\n",
    "    time_ns = int(timestamp_us*1e3)\n",
    "    rb_writer.write('/points', pcd_msg, time_ns)\n",
    "    rb_writer.write('/lidar', lidar_tf, time_ns)\n",
    "    rb_writer.write('/base_link', vehicle_tf, time_ns)"
   ]
  },
  {
   "cell_type": "code",
   "execution_count": 12,
   "metadata": {},
   "outputs": [],
   "source": [
    "del rb_writer"
   ]
  }
 ],
 "metadata": {
  "kernelspec": {
   "display_name": "Python 3",
   "language": "python",
   "name": "python3"
  },
  "language_info": {
   "codemirror_mode": {
    "name": "ipython",
    "version": 3
   },
   "file_extension": ".py",
   "mimetype": "text/x-python",
   "name": "python",
   "nbconvert_exporter": "python",
   "pygments_lexer": "ipython3",
   "version": "3.9.15"
  },
  "orig_nbformat": 4
 },
 "nbformat": 4,
 "nbformat_minor": 2
}
