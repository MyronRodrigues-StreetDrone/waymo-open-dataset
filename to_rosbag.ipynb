{
 "cells": [
  {
   "cell_type": "code",
   "execution_count": 16,
   "metadata": {},
   "outputs": [],
   "source": [
    "import rosbag2_py\n",
    "from rclpy.serialization import serialize_message\n",
    "from sensor_msgs.msg import PointCloud2, PointField\n",
    "import std_msgs.msg as std_msgs\n",
    "import numpy as np\n",
    "from builtin_interfaces.msg import Time\n",
    "import ros2_numpy as rnpy"
   ]
  },
  {
   "cell_type": "code",
   "execution_count": 2,
   "metadata": {},
   "outputs": [
    {
     "ename": "RuntimeError",
     "evalue": "Database directory already exists (waymo_10504764403039842352_460_000_480_000), can't overwrite existing database",
     "output_type": "error",
     "traceback": [
      "\u001b[0;31m---------------------------------------------------------------------------\u001b[0m",
      "\u001b[0;31mRuntimeError\u001b[0m                              Traceback (most recent call last)",
      "Cell \u001b[0;32mIn[2], line 6\u001b[0m\n\u001b[1;32m      2\u001b[0m storage_options \u001b[39m=\u001b[39m rosbag2_py\u001b[39m.\u001b[39m_storage\u001b[39m.\u001b[39mStorageOptions(\n\u001b[1;32m      3\u001b[0m             uri\u001b[39m=\u001b[39m\u001b[39m'\u001b[39m\u001b[39mwaymo_10504764403039842352_460_000_480_000\u001b[39m\u001b[39m'\u001b[39m,\n\u001b[1;32m      4\u001b[0m             storage_id\u001b[39m=\u001b[39m\u001b[39m'\u001b[39m\u001b[39msqlite3\u001b[39m\u001b[39m'\u001b[39m)\n\u001b[1;32m      5\u001b[0m converter_options \u001b[39m=\u001b[39m rosbag2_py\u001b[39m.\u001b[39m_storage\u001b[39m.\u001b[39mConverterOptions(\u001b[39m'\u001b[39m\u001b[39m'\u001b[39m, \u001b[39m'\u001b[39m\u001b[39m'\u001b[39m)\n\u001b[0;32m----> 6\u001b[0m bag_writer\u001b[39m.\u001b[39;49mopen(storage_options, converter_options)\n\u001b[1;32m      7\u001b[0m pcd_topic_info \u001b[39m=\u001b[39m rosbag2_py\u001b[39m.\u001b[39m_storage\u001b[39m.\u001b[39mTopicMetadata(\n\u001b[1;32m      8\u001b[0m             name\u001b[39m=\u001b[39m\u001b[39m'\u001b[39m\u001b[39m/points2\u001b[39m\u001b[39m'\u001b[39m,\n\u001b[1;32m      9\u001b[0m             \u001b[39mtype\u001b[39m\u001b[39m=\u001b[39m\u001b[39m'\u001b[39m\u001b[39msensor_msgs/msg/PointCloud2\u001b[39m\u001b[39m'\u001b[39m,\n\u001b[1;32m     10\u001b[0m             serialization_format\u001b[39m=\u001b[39m\u001b[39m'\u001b[39m\u001b[39mcdr\u001b[39m\u001b[39m'\u001b[39m)\n\u001b[1;32m     11\u001b[0m bag_writer\u001b[39m.\u001b[39mcreate_topic(pcd_topic_info)\n",
      "\u001b[0;31mRuntimeError\u001b[0m: Database directory already exists (waymo_10504764403039842352_460_000_480_000), can't overwrite existing database"
     ]
    }
   ],
   "source": [
    "bag_writer = rosbag2_py.SequentialWriter()\n",
    "storage_options = rosbag2_py._storage.StorageOptions(\n",
    "            uri='waymo_10504764403039842352_460_000_480_000',\n",
    "            storage_id='sqlite3')\n",
    "converter_options = rosbag2_py._storage.ConverterOptions('', '')\n",
    "bag_writer.open(storage_options, converter_options)\n",
    "pcd_topic_info = rosbag2_py._storage.TopicMetadata(\n",
    "            name='/points2',\n",
    "            type='sensor_msgs/msg/PointCloud2',\n",
    "            serialization_format='cdr')\n",
    "bag_writer.create_topic(pcd_topic_info)"
   ]
  },
  {
   "cell_type": "code",
   "execution_count": 36,
   "metadata": {},
   "outputs": [
    {
     "data": {
      "text/plain": [
       "rec.array([(0.82338905, 0.91304946, 0.8527295 , 0.33330482),\n",
       "           (0.21860275, 0.7711041 , 0.16602555, 0.58254296),\n",
       "           (0.03146101, 0.28836122, 0.48247832, 0.6793682 ),\n",
       "           (0.54592615, 0.41544133, 0.5510306 , 0.54465324),\n",
       "           (0.15445562, 0.33149043, 0.60251755, 0.91268677),\n",
       "           (0.18696329, 0.3663267 , 0.43566513, 0.7822505 ),\n",
       "           (0.4223477 , 0.31219533, 0.4723211 , 0.7107666 ),\n",
       "           (0.6055525 , 0.5804458 , 0.86600107, 0.09205964),\n",
       "           (0.49235412, 0.11295173, 0.5376863 , 0.9522484 ),\n",
       "           (0.6441191 , 0.32587487, 0.48458973, 0.22353162)],\n",
       "          dtype=[('x', '<f4'), ('y', '<f4'), ('z', '<f4'), ('i', '<f4')])"
      ]
     },
     "execution_count": 36,
     "metadata": {},
     "output_type": "execute_result"
    }
   ],
   "source": [
    "np.random.seed(9999)\n",
    "cld_np = np.random.rand(4,10)\n",
    "dt = {'names': ('x', 'y', 'z', 'i'), 'formats': (np.float32, np.float32, np.float32, np.float32)}\n",
    "cld_np = np.rec.fromarrays(cld_np, dtype=dt)\n",
    "cld_np"
   ]
  },
  {
   "cell_type": "code",
   "execution_count": 37,
   "metadata": {},
   "outputs": [
    {
     "data": {
      "text/plain": [
       "sensor_msgs.msg.PointCloud2(header=std_msgs.msg.Header(stamp=builtin_interfaces.msg.Time(sec=100, nanosec=12000), frame_id='/lidar'), height=1, width=10, fields=[sensor_msgs.msg.PointField(name='x', offset=0, datatype=7, count=1), sensor_msgs.msg.PointField(name='y', offset=4, datatype=7, count=1), sensor_msgs.msg.PointField(name='z', offset=8, datatype=7, count=1), sensor_msgs.msg.PointField(name='i', offset=12, datatype=7, count=1)], is_bigendian=False, point_step=16, row_step=160, data=[160, 201, 82, 63, 156, 189, 105, 63, 123, 76, 90, 63, 238, 166, 170, 62, 102, 217, 95, 62, 20, 103, 69, 63, 154, 2, 42, 62, 137, 33, 21, 63, 66, 221, 0, 61, 21, 164, 147, 62, 102, 7, 247, 62, 19, 235, 45, 63, 209, 193, 11, 63, 186, 180, 212, 62, 87, 16, 13, 63, 101, 110, 11, 63, 157, 41, 30, 62, 29, 185, 169, 62, 151, 62, 26, 63, 215, 165, 105, 63, 78, 115, 63, 62, 44, 143, 187, 62, 128, 15, 223, 62, 146, 65, 72, 63, 245, 61, 216, 62, 17, 216, 159, 62, 18, 212, 241, 62, 205, 244, 53, 63, 125, 5, 27, 63, 25, 152, 20, 63, 63, 178, 93, 63, 196, 137, 188, 61, 215, 21, 252, 62, 60, 83, 231, 61, 207, 165, 9, 63, 141, 198, 115, 63, 253, 228, 36, 63, 18, 217, 166, 62, 37, 28, 248, 62, 121, 229, 100, 62], is_dense=True)"
      ]
     },
     "execution_count": 37,
     "metadata": {},
     "output_type": "execute_result"
    }
   ],
   "source": [
    "ts = Time(sec=100, nanosec=12000)\n",
    "# pcd = point_cloud(cld_np, ts)\n",
    "pcd = rnpy.array_to_pointcloud2(cld_np, ts, '/lidar')\n",
    "pcd"
   ]
  },
  {
   "cell_type": "code",
   "execution_count": 38,
   "metadata": {},
   "outputs": [
    {
     "data": {
      "text/plain": [
       "array([(0.82338905, 0.91304946, 0.8527295 , 0.33330482),\n",
       "       (0.21860275, 0.7711041 , 0.16602555, 0.58254296),\n",
       "       (0.03146101, 0.28836122, 0.48247832, 0.6793682 ),\n",
       "       (0.54592615, 0.41544133, 0.5510306 , 0.54465324),\n",
       "       (0.15445562, 0.33149043, 0.60251755, 0.91268677),\n",
       "       (0.18696329, 0.3663267 , 0.43566513, 0.7822505 ),\n",
       "       (0.4223477 , 0.31219533, 0.4723211 , 0.7107666 ),\n",
       "       (0.6055525 , 0.5804458 , 0.86600107, 0.09205964),\n",
       "       (0.49235412, 0.11295173, 0.5376863 , 0.9522484 ),\n",
       "       (0.6441191 , 0.32587487, 0.48458973, 0.22353162)],\n",
       "      dtype=[('x', '<f4'), ('y', '<f4'), ('z', '<f4'), ('i', '<f4')])"
      ]
     },
     "execution_count": 38,
     "metadata": {},
     "output_type": "execute_result"
    }
   ],
   "source": [
    "rnpy.pointcloud2_to_array(pcd)"
   ]
  }
 ],
 "metadata": {
  "kernelspec": {
   "display_name": "Python 3",
   "language": "python",
   "name": "python3"
  },
  "language_info": {
   "codemirror_mode": {
    "name": "ipython",
    "version": 3
   },
   "file_extension": ".py",
   "mimetype": "text/x-python",
   "name": "python",
   "nbconvert_exporter": "python",
   "pygments_lexer": "ipython3",
   "version": "3.9.15"
  },
  "orig_nbformat": 4
 },
 "nbformat": 4,
 "nbformat_minor": 2
}
